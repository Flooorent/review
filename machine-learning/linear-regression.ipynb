{
 "cells": [
  {
   "cell_type": "markdown",
   "metadata": {},
   "source": [
    "## Simple Linear Regression"
   ]
  },
  {
   "cell_type": "markdown",
   "metadata": {},
   "source": [
    "References:\n",
    "- https://www.geeksforgeeks.org/linear-regression-python-implementation/\n",
    "- http://cs229.stanford.edu/notes/cs229-notes1.pdf\n",
    "- https://en.wikipedia.org/wiki/Linear_regression"
   ]
  },
  {
   "cell_type": "markdown",
   "metadata": {},
   "source": [
    "On suppose que les deux variables sont liées linéairement. Le but est de trouver la ligne qui fit le mieux le scatter plot, c'est la *regression line* qui a pour équation :\n",
    "\n",
    "\\begin{equation*}\n",
    "\\hat{y_i} = h(x_i) = \\beta_0 + \\beta_1x_i\n",
    "\\end{equation*}\n",
    "\n",
    "Notons\n",
    "\\begin{equation*}\n",
    "y_i = \\beta_0 + \\beta_1x_i + \\epsilon_i = h(x_i) + \\epsilon_i => \\epsilon_i = y_i - h(x_i)\n",
    "\\end{equation*}\n",
    "\n",
    "$\\epsilon_i$ est appelée l'erreur résiduelle pour la i-ème observation. Le but est de minimiser l'erreur résiduelle totale.\n",
    "\n",
    "Une façon de faire est d'utiliser la méthode des moindres carrés, aka *Least Squares method*.\n",
    "\n",
    "Définissions notre fonction de coût $J$:\n",
    "\\begin{equation*}\n",
    "J(\\beta_0, \\beta_1) = \\frac{1}{2n}\\sum^n_{i=1}\\epsilon_i^2\n",
    "\\end{equation*}\n",
    "\n",
    "Le but est de trouver les valeurs de $\\beta_0$ et $\\beta_1$ qui minimisent $J$.\n",
    "\n",
    "Résultats :\n",
    "\\begin{align*}\n",
    "\\beta_1 &= \\frac{\\sum(x_i - \\bar{x})(y_i - \\bar{y})}{\\sum(x_i - \\bar{x})^2} = \\frac{\\sum x_iy_i - n\\bar{x}\\bar{y}}{\\sum x_i^2 - n\\bar{x}^2} \\\\\n",
    "\\beta_0 &= \\bar{y} - \\beta_1\\bar{x}\n",
    "\\end{align*}"
   ]
  },
  {
   "cell_type": "markdown",
   "metadata": {},
   "source": [
    "## Multiple Linear Regression"
   ]
  },
  {
   "cell_type": "code",
   "execution_count": null,
   "metadata": {},
   "outputs": [],
   "source": []
  }
 ],
 "metadata": {
  "kernelspec": {
   "display_name": "Python 3",
   "language": "python",
   "name": "python3"
  },
  "language_info": {
   "codemirror_mode": {
    "name": "ipython",
    "version": 3
   },
   "file_extension": ".py",
   "mimetype": "text/x-python",
   "name": "python",
   "nbconvert_exporter": "python",
   "pygments_lexer": "ipython3",
   "version": "3.7.0"
  }
 },
 "nbformat": 4,
 "nbformat_minor": 2
}
